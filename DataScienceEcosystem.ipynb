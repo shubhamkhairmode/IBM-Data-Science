{
 "cells": [
  {
   "cell_type": "markdown",
   "id": "0fd463c0",
   "metadata": {},
   "source": [
    "# Data Science Tools and Ecosystem"
   ]
  },
  {
   "cell_type": "markdown",
   "id": "f411acf0",
   "metadata": {},
   "source": [
    "## In this notebook, Data Science Tools and Ecosystem are summarized."
   ]
  },
  {
   "cell_type": "markdown",
   "id": "f13ffbca",
   "metadata": {},
   "source": [
    "## Objectives:\n",
    "- Explore and analyze the dataset to gain insights.\n",
    "- Preprocess the data by handling missing values and outliers.\n",
    "- Perform feature engineering to create meaningful features.\n",
    "- Apply machine learning algorithms to build predictive models.\n",
    "- Evaluate the performance of the models using appropriate metrics.\n",
    "- Fine-tune the models to improve their performance.\n",
    "- Generate visualizations to communicate findings effectively."
   ]
  },
  {
   "cell_type": "markdown",
   "id": "126485fb",
   "metadata": {},
   "source": [
    "## Some of the popular languages that Data Scientists use are:\n",
    "\n",
    "1. Python\n",
    "2. R\n",
    "3. SQL\n",
    "4. Julia\n",
    "5. SAS"
   ]
  },
  {
   "cell_type": "markdown",
   "id": "449a90c4",
   "metadata": {},
   "source": [
    "## Some of the commonly used libraries used by Data Scientists include:\n",
    "\n",
    "1. NumPy: For numerical computing and array operations.\n",
    "2. Pandas: For data manipulation and analysis.\n",
    "3. Matplotlib: For data visualization.\n",
    "4. Seaborn: For statistical data visualization.\n",
    "5. Scikit-learn: For machine learning algorithms and tools.\n",
    "6. TensorFlow: For deep learning and neural networks.\n",
    "7. PyTorch: For deep learning and neural networks."
   ]
  },
  {
   "cell_type": "markdown",
   "id": "eda59f89",
   "metadata": {},
   "source": [
    "## Data Science Tools\n",
    "\n",
    "| Tool     | Description                                      |\n",
    "|----------|--------------------------------------------------|\n",
    "| Python   | General-purpose programming language             |\n",
    "| R        | Statistical programming language                 |\n",
    "| SQL      | Query language for managing databases            |\n",
    "| Jupyter  | Interactive coding and documentation environment |\n"
   ]
  },
  {
   "cell_type": "markdown",
   "id": "e6a54790",
   "metadata": {},
   "source": [
    "### Below are a few examples of evaluating arithmetic expressions in Python :"
   ]
  },
  {
   "cell_type": "code",
   "execution_count": 1,
   "id": "8ef97105",
   "metadata": {},
   "outputs": [
    {
     "data": {
      "text/plain": [
       "17"
      ]
     },
     "execution_count": 1,
     "metadata": {},
     "output_type": "execute_result"
    }
   ],
   "source": [
    "# This a simple arithmetic expression to mutiply then add integers\n",
    "(3*4)+5"
   ]
  },
  {
   "cell_type": "code",
   "execution_count": 3,
   "id": "f0e2aa62",
   "metadata": {},
   "outputs": [
    {
     "name": "stdout",
     "output_type": "stream",
     "text": [
      "Minutes: 150\n",
      "Hours: 2.5\n"
     ]
    }
   ],
   "source": [
    "# This will convert 200 minutes to hours by diving by 60\n",
    "minutes = 150\n",
    "hours = minutes / 60\n",
    "\n",
    "print(\"Minutes:\", minutes)\n",
    "print(\"Hours:\", hours)"
   ]
  },
  {
   "cell_type": "markdown",
   "id": "9cfe9a34",
   "metadata": {},
   "source": [
    "## Author\n",
    "Shubham Khairmode"
   ]
  }
 ],
 "metadata": {
  "kernelspec": {
   "display_name": "Python 3 (ipykernel)",
   "language": "python",
   "name": "python3"
  },
  "language_info": {
   "codemirror_mode": {
    "name": "ipython",
    "version": 3
   },
   "file_extension": ".py",
   "mimetype": "text/x-python",
   "name": "python",
   "nbconvert_exporter": "python",
   "pygments_lexer": "ipython3",
   "version": "3.10.9"
  }
 },
 "nbformat": 4,
 "nbformat_minor": 5
}
